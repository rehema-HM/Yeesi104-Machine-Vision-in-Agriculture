{
 "cells": [
  {
   "cell_type": "code",
   "execution_count": 1,
   "id": "55df38ad",
   "metadata": {},
   "outputs": [],
   "source": [
    "#import tensorflow\n",
    "import tensorflow as tf"
   ]
  },
  {
   "cell_type": "code",
   "execution_count": 2,
   "id": "79b61a48",
   "metadata": {},
   "outputs": [],
   "source": [
    "image_dataset=tf.data.Dataset.list_files('dataset/*/*',shuffle='false')"
   ]
  },
  {
   "cell_type": "code",
   "execution_count": 3,
   "id": "aace74df",
   "metadata": {},
   "outputs": [
    {
     "name": "stdout",
     "output_type": "stream",
     "text": [
      "b'dataset\\\\Tomato___healthy\\\\e1959167-b7b2-49e3-b5ce-4c5665022ada___RS_HL 0127.JPG'\n",
      "b'dataset\\\\Tomato___healthy\\\\06704d9f-3bbc-40cd-a5eb-258ed55e172b___GH_HL Leaf 491.1.JPG'\n",
      "b'dataset\\\\Tomato___healthy\\\\90af034e-dedd-4edf-afb7-9449c4508535___RS_HL 9675.JPG'\n",
      "b'dataset\\\\Tomato___healthy\\\\591c89ff-a75f-4613-b06d-4f3fbf6c426c___GH_HL Leaf 435.JPG'\n",
      "b'dataset\\\\Tomato___healthy\\\\87f08e15-5b2d-4d01-b83b-fd958eba02d4___GH_HL Leaf 434.2.JPG'\n",
      "b'dataset\\\\Tomato___healthy\\\\a98d00cf-f048-44d7-b82b-3328a8e891b3___RS_HL 0585.JPG'\n",
      "b'dataset\\\\Tomato___healthy\\\\b286becf-e2d6-4269-aaf4-e2df25c80cba___RS_HL 0355.JPG'\n",
      "b'dataset\\\\Tomato___healthy\\\\f0068af9-0c54-4a08-8cf1-3890bead99d0___RS_HL 0336.JPG'\n",
      "b'dataset\\\\Tomato___healthy\\\\c1041bea-57c1-401c-90e9-c81510f9e45a___RS_HL 0446.JPG'\n",
      "b'dataset\\\\Tomato___Tomato_Yellow_Leaf_Curl_Virus\\\\d0631a5a-5206-4544-96eb-eddcf6d9be5a___UF.GRC_YLCV_Lab 01490.JPG'\n"
     ]
    }
   ],
   "source": [
    "for file in image_dataset.take(10):\n",
    "    print(file.numpy())\n",
    "    "
   ]
  },
  {
   "cell_type": "code",
   "execution_count": 4,
   "id": "75089b45",
   "metadata": {},
   "outputs": [
    {
     "name": "stdout",
     "output_type": "stream",
     "text": [
      "b'dataset\\\\Tomato___Tomato_Yellow_Leaf_Curl_Virus\\\\f60044f6-40aa-4181-ac8c-3c79bb42a3fe___UF.GRC_YLCV_Lab 01817.JPG'\n",
      "b'dataset\\\\Tomato___Tomato_Yellow_Leaf_Curl_Virus\\\\e3d8cd03-6094-4565-be36-6f41e69efc2e___UF.GRC_YLCV_Lab 02545.JPG'\n",
      "b'dataset\\\\Tomato___healthy\\\\ed76421e-84e4-408b-a1b3-c6164867b3d2___RS_HL 0560.JPG'\n",
      "b'dataset\\\\Tomato___Tomato_Yellow_Leaf_Curl_Virus\\\\fba58456-f02f-459c-8b12-12178c622f50___YLCV_NREC 2393.JPG'\n",
      "b'dataset\\\\Tomato___Tomato_Yellow_Leaf_Curl_Virus\\\\d035829b-f35c-4ce0-9545-06aa467efc29___UF.GRC_YLCV_Lab 01689.JPG'\n",
      "b'dataset\\\\Tomato___Tomato_Yellow_Leaf_Curl_Virus\\\\d03af8b6-404a-4177-85fd-e928d8325821___YLCV_NREC 2353.JPG'\n",
      "b'dataset\\\\Tomato___healthy\\\\06704d9f-3bbc-40cd-a5eb-258ed55e172b___GH_HL Leaf 491.1.JPG'\n",
      "b'dataset\\\\Tomato___healthy\\\\115c8bc1-06b9-4679-9159-46e5640c39e7___GH_HL Leaf 206.2.JPG'\n",
      "b'dataset\\\\Tomato___Tomato_Yellow_Leaf_Curl_Virus\\\\d744882b-02ac-4904-8e96-4920b39ad5ce___YLCV_GCREC 5246.JPG'\n",
      "b'dataset\\\\Tomato___Tomato_Yellow_Leaf_Curl_Virus\\\\d70b74cb-5b1d-4ce1-868c-01825007c9f7___UF.GRC_YLCV_Lab 09352.JPG'\n"
     ]
    }
   ],
   "source": [
    "image_dataset=image_dataset.shuffle(500)\n",
    "for file in image_dataset.take(10):\n",
    "    print(file.numpy())"
   ]
  },
  {
   "cell_type": "code",
   "execution_count": 5,
   "id": "7a91485d",
   "metadata": {},
   "outputs": [],
   "source": [
    "class_names=['Tomato___healthy','Tomato___Tomato_Yellow_Leaf_Curl_Virus']"
   ]
  },
  {
   "cell_type": "code",
   "execution_count": 6,
   "id": "264370b1",
   "metadata": {},
   "outputs": [
    {
     "data": {
      "text/plain": [
       "2000"
      ]
     },
     "execution_count": 6,
     "metadata": {},
     "output_type": "execute_result"
    }
   ],
   "source": [
    "dataset_count=len(image_dataset)\n",
    "dataset_count"
   ]
  },
  {
   "cell_type": "code",
   "execution_count": 8,
   "id": "c4e582b8",
   "metadata": {},
   "outputs": [
    {
     "data": {
      "text/plain": [
       "1600"
      ]
     },
     "execution_count": 8,
     "metadata": {},
     "output_type": "execute_result"
    }
   ],
   "source": [
    "#splitting our dataset\n",
    "train_size= int(dataset_count*0.8)\n",
    "train_ds=image_dataset.take(train_size)\n",
    "len(train_ds)"
   ]
  },
  {
   "cell_type": "code",
   "execution_count": 9,
   "id": "7f64df5d",
   "metadata": {},
   "outputs": [
    {
     "data": {
      "text/plain": [
       "400"
      ]
     },
     "execution_count": 9,
     "metadata": {},
     "output_type": "execute_result"
    }
   ],
   "source": [
    "val_ds=image_dataset.skip(train_size)\n",
    "len(val_ds)"
   ]
  },
  {
   "cell_type": "code",
   "execution_count": null,
   "id": "573b67c3",
   "metadata": {},
   "outputs": [],
   "source": []
  }
 ],
 "metadata": {
  "kernelspec": {
   "display_name": "Python 3 (ipykernel)",
   "language": "python",
   "name": "python3"
  },
  "language_info": {
   "codemirror_mode": {
    "name": "ipython",
    "version": 3
   },
   "file_extension": ".py",
   "mimetype": "text/x-python",
   "name": "python",
   "nbconvert_exporter": "python",
   "pygments_lexer": "ipython3",
   "version": "3.9.12"
  }
 },
 "nbformat": 4,
 "nbformat_minor": 5
}
